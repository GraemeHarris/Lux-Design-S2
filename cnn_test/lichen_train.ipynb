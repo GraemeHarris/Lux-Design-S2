{
 "cells": [
  {
   "cell_type": "code",
   "execution_count": 3,
   "metadata": {},
   "outputs": [
    {
     "name": "stdout",
     "output_type": "stream",
     "text": [
      "Collecting luxai_s2\n",
      "  Using cached luxai_s2-2.1.9-py3-none-any.whl (63 kB)\n",
      "Requirement already satisfied: scipy in /Users/graeme/.pyenv/versions/3.10.8/lib/python3.10/site-packages (from luxai_s2) (1.8.1)\n",
      "Collecting termcolor\n",
      "  Using cached termcolor-2.2.0-py3-none-any.whl (6.6 kB)\n",
      "Collecting pygame\n",
      "  Downloading pygame-2.2.0-cp310-cp310-macosx_11_0_arm64.whl (12.1 MB)\n",
      "\u001b[2K     \u001b[38;2;114;156;31m━━━━━━━━━━━━━━━━━━━━━━━━━━━━━━━━━━━━━━━━\u001b[0m \u001b[32m12.1/12.1 MB\u001b[0m \u001b[31m2.0 MB/s\u001b[0m eta \u001b[36m0:00:00\u001b[0mm eta \u001b[36m0:00:01\u001b[0m[36m0:00:01\u001b[0m\n",
      "\u001b[?25hRequirement already satisfied: numpy in /Users/graeme/.pyenv/versions/3.10.8/lib/python3.10/site-packages (from luxai_s2) (1.22.4)\n",
      "Collecting vec-noise\n",
      "  Using cached vec_noise-1.1.4.zip (134 kB)\n",
      "  Preparing metadata (setup.py) ... \u001b[?25ldone\n",
      "\u001b[?25hCollecting pettingzoo\n",
      "  Using cached PettingZoo-1.22.3-py3-none-any.whl (816 kB)\n",
      "Collecting gym==0.21.0\n",
      "  Using cached gym-0.21.0.tar.gz (1.5 MB)\n",
      "  Preparing metadata (setup.py) ... \u001b[?25ldone\n",
      "\u001b[?25hCollecting importlib-metadata<5.0\n",
      "  Using cached importlib_metadata-4.13.0-py3-none-any.whl (23 kB)\n",
      "Collecting matplotlib\n",
      "  Downloading matplotlib-3.7.0-cp310-cp310-macosx_11_0_arm64.whl (7.3 MB)\n",
      "\u001b[2K     \u001b[38;2;114;156;31m━━━━━━━━━━━━━━━━━━━━━━━━━━━━━━━━━━━━━━━━\u001b[0m \u001b[32m7.3/7.3 MB\u001b[0m \u001b[31m9.1 MB/s\u001b[0m eta \u001b[36m0:00:00\u001b[0mm eta \u001b[36m0:00:01\u001b[0m0:01\u001b[0m:01\u001b[0m\n",
      "\u001b[?25hCollecting cloudpickle>=1.2.0\n",
      "  Using cached cloudpickle-2.2.1-py3-none-any.whl (25 kB)\n",
      "Collecting zipp>=0.5\n",
      "  Downloading zipp-3.15.0-py3-none-any.whl (6.8 kB)\n",
      "Collecting kiwisolver>=1.0.1\n",
      "  Using cached kiwisolver-1.4.4-cp310-cp310-macosx_11_0_arm64.whl (63 kB)\n",
      "Collecting fonttools>=4.22.0\n",
      "  Using cached fonttools-4.38.0-py3-none-any.whl (965 kB)\n",
      "Collecting cycler>=0.10\n",
      "  Using cached cycler-0.11.0-py3-none-any.whl (6.4 kB)\n",
      "Requirement already satisfied: packaging>=20.0 in /Users/graeme/.pyenv/versions/3.10.8/lib/python3.10/site-packages (from matplotlib->luxai_s2) (23.0)\n",
      "Requirement already satisfied: python-dateutil>=2.7 in /Users/graeme/.pyenv/versions/3.10.8/lib/python3.10/site-packages (from matplotlib->luxai_s2) (2.8.2)\n",
      "Collecting pyparsing>=2.3.1\n",
      "  Using cached pyparsing-3.0.9-py3-none-any.whl (98 kB)\n",
      "Collecting pillow>=6.2.0\n",
      "  Downloading Pillow-9.4.0-cp310-cp310-macosx_11_0_arm64.whl (3.0 MB)\n",
      "\u001b[2K     \u001b[38;2;114;156;31m━━━━━━━━━━━━━━━━━━━━━━━━━━━━━━━━━━━━━━━━\u001b[0m \u001b[32m3.0/3.0 MB\u001b[0m \u001b[31m8.2 MB/s\u001b[0m eta \u001b[36m0:00:00\u001b[0mm eta \u001b[36m0:00:01\u001b[0m0:01\u001b[0m:01\u001b[0m\n",
      "\u001b[?25hCollecting contourpy>=1.0.1\n",
      "  Downloading contourpy-1.0.7-cp310-cp310-macosx_11_0_arm64.whl (229 kB)\n",
      "\u001b[2K     \u001b[38;2;114;156;31m━━━━━━━━━━━━━━━━━━━━━━━━━━━━━━━━━━━━━━━\u001b[0m \u001b[32m229.7/229.7 kB\u001b[0m \u001b[31m8.1 MB/s\u001b[0m eta \u001b[36m0:00:00\u001b[0m\n",
      "\u001b[?25hCollecting gymnasium>=0.26.0\n",
      "  Using cached gymnasium-0.27.1-py3-none-any.whl (883 kB)\n",
      "Collecting jax-jumpy>=0.2.0\n",
      "  Using cached jax_jumpy-0.2.0-py3-none-any.whl (11 kB)\n",
      "Requirement already satisfied: typing-extensions>=4.3.0 in /Users/graeme/.pyenv/versions/3.10.8/lib/python3.10/site-packages (from gymnasium>=0.26.0->pettingzoo->luxai_s2) (4.4.0)\n",
      "Collecting gymnasium-notices>=0.0.1\n",
      "  Using cached gymnasium_notices-0.0.1-py3-none-any.whl (2.8 kB)\n",
      "Requirement already satisfied: six>=1.5 in /Users/graeme/.pyenv/versions/3.10.8/lib/python3.10/site-packages (from python-dateutil>=2.7->matplotlib->luxai_s2) (1.16.0)\n",
      "Building wheels for collected packages: gym, vec-noise\n",
      "  Building wheel for gym (setup.py) ... \u001b[?25ldone\n",
      "\u001b[?25h  Created wheel for gym: filename=gym-0.21.0-py3-none-any.whl size=1616797 sha256=dde5f4aee072434ec274a1ce9b49f38009905618c27ae795e524ec5763c19277\n",
      "  Stored in directory: /Users/graeme/Library/Caches/pip/wheels/81/aa/90/b67df76370d3916a2189b662cf48da38ce41a4e7e58b6abff5\n",
      "  Building wheel for vec-noise (setup.py) ... \u001b[?25ldone\n",
      "\u001b[?25h  Created wheel for vec-noise: filename=vec_noise-1.1.4-cp310-cp310-macosx_13_0_arm64.whl size=27798 sha256=d4e2e246552d838a24329effa023be196c9379e789b95ebaca36557400107cd6\n",
      "  Stored in directory: /Users/graeme/Library/Caches/pip/wheels/2b/28/e4/f710af1a5bb24bb6da3d4f65081e268ca85034b7ac0a9237fe\n",
      "Successfully built gym vec-noise\n",
      "Installing collected packages: gymnasium-notices, zipp, vec-noise, termcolor, pyparsing, pygame, pillow, kiwisolver, jax-jumpy, fonttools, cycler, contourpy, cloudpickle, matplotlib, importlib-metadata, gymnasium, gym, pettingzoo, luxai_s2\n",
      "Successfully installed cloudpickle-2.2.1 contourpy-1.0.7 cycler-0.11.0 fonttools-4.38.0 gym-0.21.0 gymnasium-0.27.1 gymnasium-notices-0.0.1 importlib-metadata-4.13.0 jax-jumpy-0.2.0 kiwisolver-1.4.4 luxai_s2-2.1.9 matplotlib-3.7.0 pettingzoo-1.22.3 pillow-9.4.0 pygame-2.2.0 pyparsing-3.0.9 termcolor-2.2.0 vec-noise-1.1.4 zipp-3.15.0\n",
      "\n",
      "\u001b[1m[\u001b[0m\u001b[34;49mnotice\u001b[0m\u001b[1;39;49m]\u001b[0m\u001b[39;49m A new release of pip is available: \u001b[0m\u001b[31;49m23.0\u001b[0m\u001b[39;49m -> \u001b[0m\u001b[32;49m23.0.1\u001b[0m\n",
      "\u001b[1m[\u001b[0m\u001b[34;49mnotice\u001b[0m\u001b[1;39;49m]\u001b[0m\u001b[39;49m To update, run: \u001b[0m\u001b[32;49mpip install --upgrade pip\u001b[0m\n",
      "\u001b[31mERROR: Ignored the following versions that require a different python version: 1.10.0 Requires-Python >=3.6, <3.10; 1.11.0 Requires-Python >=3.6, <3.10; 1.11.1 Requires-Python >=3.6, <3.10; 1.11.2 Requires-Python >=3.6, <3.10; 1.12.0 Requires-Python >=3.6, <3.10; 1.13.0 Requires-Python >=3.7, <3.10; 1.13.1 Requires-Python >=3.7, <3.10; 1.4.0 Requires-Python >=3.6, <3.9; 1.4.1 Requires-Python >=3.6, <3.9; 1.4.2 Requires-Python >=3.6, <3.9; 1.5.0 Requires-Python >=3.6, <3.10; 1.5.1 Requires-Python >=3.6, <3.10; 1.5.2 Requires-Python >=3.6, <3.10; 1.6.0 Requires-Python >=3.6, <3.10; 1.6.1 Requires-Python >=3.6, <3.10; 1.7.0 Requires-Python >=3.6, <3.10; 1.8.0 Requires-Python >=3.6, <3.10; 1.8.1 Requires-Python >=3.6, <3.10; 1.8.2 Requires-Python >=3.6, <3.10; 1.9.0 Requires-Python >=3.6, <3.10\u001b[0m\u001b[31m\n",
      "\u001b[0m\u001b[31mERROR: Could not find a version that satisfies the requirement pettingzoo==1.12.0 (from versions: 0.1.0, 0.1.1, 0.1.2, 0.1.3, 0.1.4, 0.1.5, 0.1.6, 0.1.7, 0.1.8, 0.1.9, 0.1.10, 0.1.11, 0.1.12, 0.1.13, 0.1.14, 1.0.0, 1.0.1, 1.1.0, 1.2.0, 1.2.1, 1.3.0, 1.3.1, 1.3.2, 1.3.3, 1.3.4, 1.3.5, 1.14.0, 1.15.0, 1.16.0, 1.17.0, 1.18.1, 1.19.0, 1.20.1, 1.21.0, 1.22.0, 1.22.1, 1.22.2, 1.22.3)\u001b[0m\u001b[31m\n",
      "\u001b[0m\u001b[31mERROR: No matching distribution found for pettingzoo==1.12.0\u001b[0m\u001b[31m\n",
      "\u001b[0m\n",
      "\u001b[1m[\u001b[0m\u001b[34;49mnotice\u001b[0m\u001b[1;39;49m]\u001b[0m\u001b[39;49m A new release of pip is available: \u001b[0m\u001b[31;49m23.0\u001b[0m\u001b[39;49m -> \u001b[0m\u001b[32;49m23.0.1\u001b[0m\n",
      "\u001b[1m[\u001b[0m\u001b[34;49mnotice\u001b[0m\u001b[1;39;49m]\u001b[0m\u001b[39;49m To update, run: \u001b[0m\u001b[32;49mpip install --upgrade pip\u001b[0m\n",
      "Requirement already satisfied: importlib_metadata<5.0 in /Users/graeme/.pyenv/versions/3.10.8/lib/python3.10/site-packages (4.13.0)\n",
      "Requirement already satisfied: zipp>=0.5 in /Users/graeme/.pyenv/versions/3.10.8/lib/python3.10/site-packages (from importlib_metadata<5.0) (3.15.0)\n",
      "\n",
      "\u001b[1m[\u001b[0m\u001b[34;49mnotice\u001b[0m\u001b[1;39;49m]\u001b[0m\u001b[39;49m A new release of pip is available: \u001b[0m\u001b[31;49m23.0\u001b[0m\u001b[39;49m -> \u001b[0m\u001b[32;49m23.0.1\u001b[0m\n",
      "\u001b[1m[\u001b[0m\u001b[34;49mnotice\u001b[0m\u001b[1;39;49m]\u001b[0m\u001b[39;49m To update, run: \u001b[0m\u001b[32;49mpip install --upgrade pip\u001b[0m\n"
     ]
    }
   ],
   "source": [
    "!pip install --upgrade luxai_s2\n",
    "!pip install pettingzoo==1.12.0 gym==0.21.0 stable-baselines3\n",
    "!pip install --upgrade \"importlib_metadata<5.0\""
   ]
  },
  {
   "cell_type": "code",
   "execution_count": 2,
   "metadata": {},
   "outputs": [
    {
     "name": "stdout",
     "output_type": "stream",
     "text": [
      "Training with args Namespace(seed=12, n_envs=8, max_episode_steps=200, total_timesteps=100, eval=False, model_path=None, log_path='logs')\n",
      "Using cpu device\n",
      "Logging to logs/PPO_2\n",
      "----------------------------------------------\n",
      "| rollout/                        |          |\n",
      "|    ep_len_mean                  | 200      |\n",
      "|    ep_rew_mean                  | 0        |\n",
      "| time/                           |          |\n",
      "|    fps                          | 5916     |\n",
      "|    iterations                   | 1        |\n",
      "|    time_elapsed                 | 0        |\n",
      "|    total_timesteps              | 4000     |\n",
      "| train_metrics/                  |          |\n",
      "|    action_queue_updates_success | 124      |\n",
      "|    action_queue_updates_total   | 145      |\n",
      "|    ice_dug                      | 0        |\n",
      "|    lichen_grown                 | 0        |\n",
      "|    water_produced               | 0        |\n",
      "----------------------------------------------\n"
     ]
    }
   ],
   "source": [
    "!python3 ./sb3/train.py --total-timesteps 100"
   ]
  },
  {
   "cell_type": "code",
   "execution_count": null,
   "metadata": {},
   "outputs": [],
   "source": []
  },
  {
   "cell_type": "code",
   "execution_count": null,
   "metadata": {},
   "outputs": [],
   "source": []
  }
 ],
 "metadata": {
  "kernelspec": {
   "display_name": "Python 3",
   "language": "python",
   "name": "python3"
  },
  "language_info": {
   "codemirror_mode": {
    "name": "ipython",
    "version": 3
   },
   "file_extension": ".py",
   "mimetype": "text/x-python",
   "name": "python",
   "nbconvert_exporter": "python",
   "pygments_lexer": "ipython3",
   "version": "3.10.8"
  },
  "orig_nbformat": 4,
  "vscode": {
   "interpreter": {
    "hash": "9dd8aa430c7bcc8bdf19f161e8d6db28e6aaa487512f0ed7e3929fc793733ea4"
   }
  }
 },
 "nbformat": 4,
 "nbformat_minor": 2
}
